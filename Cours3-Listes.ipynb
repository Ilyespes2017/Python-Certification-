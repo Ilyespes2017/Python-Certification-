{
 "cells": [
  {
   "cell_type": "code",
   "execution_count": 104,
   "metadata": {},
   "outputs": [],
   "source": [
    "#Listes \n",
    "listPrincipale=[\n",
    "    [1,'a'],\n",
    "    [3,'b'],\n",
    "    [5,'c'],\n",
    "]\n",
    "list1 = [2500,2,6,2500,2500]\n",
    "list2 = [5,6,5]\n",
    "x=65"
   ]
  },
  {
   "cell_type": "code",
   "execution_count": 111,
   "metadata": {},
   "outputs": [
    {
     "data": {
      "text/plain": [
       "[2500, 2, 'a', 6, 2500, 2500, 5]"
      ]
     },
     "execution_count": 111,
     "metadata": {},
     "output_type": "execute_result"
    }
   ],
   "source": [
    "#Ajout element en fin\n",
    "list1.append(5)\n",
    "list1.insert(2,'a') #insertion à l'indice2\n",
    "list1"
   ]
  },
  {
   "cell_type": "code",
   "execution_count": 91,
   "metadata": {},
   "outputs": [],
   "source": [
    "#Fusion 2 list (Tous les résultats pareils)\n",
    "list1.extend(list2)\n",
    "list1 + list2 \n",
    "list1 += list2"
   ]
  },
  {
   "cell_type": "code",
   "execution_count": 92,
   "metadata": {},
   "outputs": [],
   "source": [
    "#Suppression de données\n",
    "del(list1[3]) # delete l'element du 3eme indice\n",
    "del(list1) # del(list1) # delete la liste complète \n",
    "del(x) # Detruit la variable x\n",
    "list1 = [2500,2,6,2500,2500]\n",
    "list1.remove(2500) # remove la valeur 2500 de la list (premiere occurence uniqument !!!!)"
   ]
  },
  {
   "cell_type": "code",
   "execution_count": 93,
   "metadata": {},
   "outputs": [
    {
     "data": {
      "text/plain": [
       "[2, 6, 2500, 2500]"
      ]
     },
     "execution_count": 93,
     "metadata": {},
     "output_type": "execute_result"
    }
   ],
   "source": [
    "list1"
   ]
  },
  {
   "cell_type": "code",
   "execution_count": 113,
   "metadata": {},
   "outputs": [
    {
     "name": "stdout",
     "output_type": "stream",
     "text": [
      "0 2500\n",
      "1 2\n",
      "2 a\n",
      "3 6\n",
      "4 2500\n",
      "5 2500\n",
      "6 5\n"
     ]
    }
   ],
   "source": [
    "### Enumerate très interéssant \n",
    "for i,elt in enumerate(list1):\n",
    "    print(i,elt)"
   ]
  },
  {
   "cell_type": "code",
   "execution_count": 108,
   "metadata": {},
   "outputs": [
    {
     "name": "stdout",
     "output_type": "stream",
     "text": [
      "La lettre a est la 1e de l'alphabet.\n",
      "La lettre d est la 4e de l'alphabet.\n",
      "La lettre g est la 7e de l'alphabet.\n",
      "La lettre z est la 26e de l'alphabet.\n"
     ]
    }
   ],
   "source": [
    "autre_liste = [\n",
    "     [1, 'a'],\n",
    "    [4, 'd'],\n",
    "    [7, 'g'],\n",
    "    [26, 'z']] # J'ai étalé la liste sur plusieurs lignes\n",
    "for nb, lettre in autre_liste:\n",
    "     print(\"La lettre {} est la {}e de l'alphabet.\".format(lettre, nb))"
   ]
  },
  {
   "cell_type": "code",
   "execution_count": 126,
   "metadata": {},
   "outputs": [
    {
     "data": {
      "text/plain": [
       "['salut', 'python', 'ça', 'va', '?']"
      ]
     },
     "execution_count": 126,
     "metadata": {},
     "output_type": "execute_result"
    }
   ],
   "source": [
    "## Split \n",
    "chaine = \"salut python ça va ?\"\n",
    "liste = chaine.split(\" \")\n",
    "liste"
   ]
  },
  {
   "cell_type": "code",
   "execution_count": 127,
   "metadata": {},
   "outputs": [
    {
     "data": {
      "text/plain": [
       "'salut python ça va ?'"
      ]
     },
     "execution_count": 127,
     "metadata": {},
     "output_type": "execute_result"
    }
   ],
   "source": [
    "# join\n",
    "chaine = \" \".join(liste)\n",
    "chaine"
   ]
  },
  {
   "cell_type": "code",
   "execution_count": 128,
   "metadata": {},
   "outputs": [
    {
     "name": "stdout",
     "output_type": "stream",
     "text": [
      "salut python ça va ?\n"
     ]
    }
   ],
   "source": [
    "print(*liste)"
   ]
  },
  {
   "cell_type": "code",
   "execution_count": 130,
   "metadata": {},
   "outputs": [
    {
     "data": {
      "text/plain": [
       "['salut', 'python', 'ça', 'va', '?']"
      ]
     },
     "execution_count": 130,
     "metadata": {},
     "output_type": "execute_result"
    }
   ],
   "source": [
    "liste"
   ]
  },
  {
   "cell_type": "code",
   "execution_count": 131,
   "metadata": {},
   "outputs": [],
   "source": [
    "# list comprehensions\n",
    "test = [1,2,3,4,5]\n",
    "y = [nb *3 for nb in test if nb%2==0] # Garde les nombres pair et multiplie x 3"
   ]
  },
  {
   "cell_type": "code",
   "execution_count": 236,
   "metadata": {},
   "outputs": [],
   "source": [
    ">>> inventaire = [\n",
    "...     (\"pommes\", 22),\n",
    "...     (\"melons\", 4),\n",
    "...     (\"poires\", 18),\n",
    "...     (\"fraises\", 76),\n",
    "...     (\"prunes\", 51),\n",
    "... ]\n",
    ">>>"
   ]
  },
  {
   "cell_type": "code",
   "execution_count": 245,
   "metadata": {},
   "outputs": [],
   "source": [
    "test1=[(chiffre,fruit) for fruit,chiffre in inventaire]\n",
    "test1.sort(reverse=True)"
   ]
  },
  {
   "cell_type": "code",
   "execution_count": 246,
   "metadata": {},
   "outputs": [],
   "source": [
    "inventaire = [(fruit,chiffre) for chiffre,fruit in test1]"
   ]
  },
  {
   "cell_type": "code",
   "execution_count": 247,
   "metadata": {},
   "outputs": [
    {
     "data": {
      "text/plain": [
       "[('fraises', 76),\n",
       " ('prunes', 51),\n",
       " ('pommes', 22),\n",
       " ('poires', 18),\n",
       " ('melons', 4)]"
      ]
     },
     "execution_count": 247,
     "metadata": {},
     "output_type": "execute_result"
    }
   ],
   "source": [
    "inventaire"
   ]
  },
  {
   "cell_type": "code",
   "execution_count": 240,
   "metadata": {},
   "outputs": [
    {
     "data": {
      "text/plain": [
       "[(76, 'fraises'),\n",
       " (51, 'prunes'),\n",
       " (22, 'pommes'),\n",
       " (18, 'poires'),\n",
       " (4, 'melons')]"
      ]
     },
     "execution_count": 240,
     "metadata": {},
     "output_type": "execute_result"
    }
   ],
   "source": [
    "test1"
   ]
  },
  {
   "cell_type": "code",
   "execution_count": 249,
   "metadata": {},
   "outputs": [],
   "source": [
    "list1 = [6,2,5]\n",
    "list2 = [5,4,5]"
   ]
  },
  {
   "cell_type": "code",
   "execution_count": 251,
   "metadata": {},
   "outputs": [
    {
     "data": {
      "text/plain": [
       "NoneType"
      ]
     },
     "execution_count": 251,
     "metadata": {},
     "output_type": "execute_result"
    }
   ],
   "source": [
    "type(list1.append(5))"
   ]
  },
  {
   "cell_type": "code",
   "execution_count": null,
   "metadata": {},
   "outputs": [],
   "source": [
    "str"
   ]
  }
 ],
 "metadata": {
  "kernelspec": {
   "display_name": "Python 3",
   "language": "python",
   "name": "python3"
  },
  "language_info": {
   "codemirror_mode": {
    "name": "ipython",
    "version": 3
   },
   "file_extension": ".py",
   "mimetype": "text/x-python",
   "name": "python",
   "nbconvert_exporter": "python",
   "pygments_lexer": "ipython3",
   "version": "3.7.1"
  }
 },
 "nbformat": 4,
 "nbformat_minor": 2
}
