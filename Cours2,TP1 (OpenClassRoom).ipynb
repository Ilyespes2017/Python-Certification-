{
 "cells": [
  {
   "cell_type": "code",
   "execution_count": 7,
   "metadata": {},
   "outputs": [],
   "source": [
    "from random import randrange\n"
   ]
  },
  {
   "cell_type": "code",
   "execution_count": 19,
   "metadata": {},
   "outputs": [
    {
     "name": "stdout",
     "output_type": "stream",
     "text": [
      "Choisissez un chiffre entre [0-49] : 25\n",
      "Vous Misez combien en $ : 50\n"
     ]
    }
   ],
   "source": [
    "chiffre = int(input(\"Choisissez un chiffre entre [0-49] : \"))\n",
    "mise = input(\"Vous Misez combien en $ : \")\n",
    "chiffreGagnant = randrange(50)\n",
    "gain = 0"
   ]
  },
  {
   "cell_type": "code",
   "execution_count": 20,
   "metadata": {},
   "outputs": [],
   "source": [
    "if chiffreGagnant == chiffre:\n",
    "    gain = 3*mise\n",
    "elif chiffreGagnant % 2 == chiffre %2:\n",
    "    gain = mise/2\n",
    "else:\n",
    "    gain = 0"
   ]
  },
  {
   "cell_type": "code",
   "execution_count": 21,
   "metadata": {},
   "outputs": [
    {
     "name": "stdout",
     "output_type": "stream",
     "text": [
      "Le chiffre gagnant est : 48\n",
      "Vous avez choisit : 25\n",
      "Votre gain est de : 0\n"
     ]
    }
   ],
   "source": [
    "print(\"Le chiffre gagnant est :\",chiffreGagnant)\n",
    "print(\"Vous avez choisit :\", chiffre)\n",
    "print(\"Votre gain est de :\", gain)"
   ]
  },
  {
   "cell_type": "code",
   "execution_count": null,
   "metadata": {},
   "outputs": [],
   "source": []
  }
 ],
 "metadata": {
  "kernelspec": {
   "display_name": "Python 3",
   "language": "python",
   "name": "python3"
  },
  "language_info": {
   "codemirror_mode": {
    "name": "ipython",
    "version": 3
   },
   "file_extension": ".py",
   "mimetype": "text/x-python",
   "name": "python",
   "nbconvert_exporter": "python",
   "pygments_lexer": "ipython3",
   "version": "3.7.1"
  }
 },
 "nbformat": 4,
 "nbformat_minor": 2
}
