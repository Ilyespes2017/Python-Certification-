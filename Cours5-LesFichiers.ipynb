{
 "cells": [
  {
   "cell_type": "code",
   "execution_count": 2,
   "metadata": {},
   "outputs": [],
   "source": [
    "import os"
   ]
  },
  {
   "cell_type": "code",
   "execution_count": 33,
   "metadata": {},
   "outputs": [],
   "source": [
    "##Changement de path\n",
    "os.chdir(\"c:/test python\")"
   ]
  },
  {
   "cell_type": "code",
   "execution_count": 50,
   "metadata": {},
   "outputs": [],
   "source": [
    "# Open mais on est obligé de close\n",
    "mon_fichier=open(\"fichier.txt\",\"w\")\n",
    "test = mon_fichier.write(\"test\")\n"
   ]
  },
  {
   "cell_type": "code",
   "execution_count": 52,
   "metadata": {},
   "outputs": [],
   "source": [
    "#Open et pas obligé de close car python le fait à notre place, vivement conseillé \n",
    "with open(\"fichier.txt\",\"w\") as test1:\n",
    "    test=test1.write(\"ilyes\")\n"
   ]
  },
  {
   "cell_type": "code",
   "execution_count": 54,
   "metadata": {},
   "outputs": [],
   "source": [
    "score = {\n",
    "    \"joueur_1\" : 50,\n",
    "    \"joueur_2\" : 30,\n",
    "    \"joueur_3\" : 40,\n",
    "    \"joueur_4\" : 10\n",
    "}"
   ]
  },
  {
   "cell_type": "code",
   "execution_count": 59,
   "metadata": {},
   "outputs": [],
   "source": [
    "#Module pickle pour enregistrer des objets dans un fichier\n",
    "import pickle\n",
    "with open(\"data\",\"wb\") as data:\n",
    "    mon_pickler  = pickle.Pickler(data)  # preparer le pickler\n",
    "    mon_pickler.dump(score) #sauvegarder le score dans le fichier"
   ]
  },
  {
   "cell_type": "code",
   "execution_count": 60,
   "metadata": {},
   "outputs": [],
   "source": [
    "with open(\"data\", \"rb\") as data:\n",
    "    depickler = pickle.Unpickler(data)\n",
    "    scoreRecup = depickler.load()"
   ]
  },
  {
   "cell_type": "code",
   "execution_count": 61,
   "metadata": {},
   "outputs": [
    {
     "data": {
      "text/plain": [
       "{'joueur_1': 50, 'joueur_2': 30, 'joueur_3': 40, 'joueur_4': 10}"
      ]
     },
     "execution_count": 61,
     "metadata": {},
     "output_type": "execute_result"
    }
   ],
   "source": [
    "scoreRecup"
   ]
  },
  {
   "cell_type": "code",
   "execution_count": null,
   "metadata": {},
   "outputs": [],
   "source": []
  }
 ],
 "metadata": {
  "kernelspec": {
   "display_name": "Python 3",
   "language": "python",
   "name": "python3"
  },
  "language_info": {
   "codemirror_mode": {
    "name": "ipython",
    "version": 3
   },
   "file_extension": ".py",
   "mimetype": "text/x-python",
   "name": "python",
   "nbconvert_exporter": "python",
   "pygments_lexer": "ipython3",
   "version": "3.7.1"
  }
 },
 "nbformat": 4,
 "nbformat_minor": 2
}
